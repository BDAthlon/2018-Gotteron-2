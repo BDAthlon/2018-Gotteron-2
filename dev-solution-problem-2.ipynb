{
 "cells": [
  {
   "cell_type": "code",
   "execution_count": 5,
   "metadata": {},
   "outputs": [],
   "source": [
    "import sys\n",
    "import json\n",
    "import numpy as np\n",
    "\n",
    "sys.path.append('../')\n",
    "from genetic_circuit_scoring import CircuitMapping"
   ]
  },
  {
   "cell_type": "markdown",
   "metadata": {},
   "source": [
    "let's load the data to develop a solution"
   ]
  },
  {
   "cell_type": "code",
   "execution_count": 43,
   "metadata": {},
   "outputs": [],
   "source": [
    "path = '../genetic_logic_synthesis/genetic_circuit_scoring/example/'\n",
    "\n",
    "with open(path + 'genetic_gate_library.json') as library_file:\n",
    "    library_data = json.load(library_file)\n",
    "with open(path + 'majority_mapping.json') as majority_mapping_file:\n",
    "    majority_mapping_data = json.load(majority_mapping_file)\n",
    "with open(path + 'majority_tuning.json') as majority_tuning_file:\n",
    "    majority_tuning_data = json.load(majority_tuning_file)"
   ]
  },
  {
   "cell_type": "code",
   "execution_count": 44,
   "metadata": {},
   "outputs": [],
   "source": [
    "circuit_mapping = CircuitMapping(library_data)\n",
    "circuit_mapping.map(majority_mapping_data)"
   ]
  },
  {
   "cell_type": "code",
   "execution_count": 45,
   "metadata": {},
   "outputs": [
    {
     "data": {
      "text/plain": [
       "0.5191361249786275"
      ]
     },
     "execution_count": 45,
     "metadata": {},
     "output_type": "execute_result"
    }
   ],
   "source": [
    "circuit_mapping.score()"
   ]
  },
  {
   "cell_type": "code",
   "execution_count": 46,
   "metadata": {},
   "outputs": [],
   "source": [
    "circuit_mapping.tune(majority_tuning_data)"
   ]
  },
  {
   "cell_type": "code",
   "execution_count": 47,
   "metadata": {},
   "outputs": [
    {
     "data": {
      "text/plain": [
       "0.5209209930735266"
      ]
     },
     "execution_count": 47,
     "metadata": {},
     "output_type": "execute_result"
    }
   ],
   "source": [
    "circuit_mapping.score()"
   ]
  },
  {
   "cell_type": "markdown",
   "metadata": {},
   "source": [
    "ok, so now let's havea a look at what we need to create"
   ]
  },
  {
   "cell_type": "code",
   "execution_count": 48,
   "metadata": {},
   "outputs": [
    {
     "data": {
      "text/plain": [
       "{'gates': [{'id': 'n0', 'promoter': 1.5},\n",
       "  {'id': 'n4', 'rbs': 2},\n",
       "  {'id': 'n8', 'promoter': 0.5, 'rbs': 0.5}]}"
      ]
     },
     "execution_count": 48,
     "metadata": {},
     "output_type": "execute_result"
    }
   ],
   "source": [
    "majority_tuning_data"
   ]
  },
  {
   "cell_type": "code",
   "execution_count": 49,
   "metadata": {},
   "outputs": [
    {
     "data": {
      "text/plain": [
       "[{'id': 'n0', 'type': 'NOT', 'mapping': 'A1_AmtR'},\n",
       " {'id': 'n1', 'type': 'OR'},\n",
       " {'id': 'n2', 'type': 'NOT', 'mapping': 'B1_BM3R1'},\n",
       " {'id': 'n3', 'type': 'NOT', 'mapping': 'E1_BetI'},\n",
       " {'id': 'n4', 'type': 'NOT', 'mapping': 'F1_AmeR'},\n",
       " {'id': 'n5', 'type': 'OR'},\n",
       " {'id': 'n6', 'type': 'NOT', 'mapping': 'H1_HlyIIR'},\n",
       " {'id': 'n7', 'type': 'OR'},\n",
       " {'id': 'n8', 'type': 'NOT', 'mapping': 'I1_IcaRA'},\n",
       " {'id': 'n9', 'type': 'OR'}]"
      ]
     },
     "execution_count": 49,
     "metadata": {},
     "output_type": "execute_result"
    }
   ],
   "source": [
    "majority_mapping_data['gates']"
   ]
  },
  {
   "cell_type": "markdown",
   "metadata": {},
   "source": [
    "let's add an entry"
   ]
  },
  {
   "cell_type": "code",
   "execution_count": 50,
   "metadata": {},
   "outputs": [],
   "source": [
    "new_entry = {'id': 'n6', 'promoter':0.5, 'rbs': 0.8}"
   ]
  },
  {
   "cell_type": "code",
   "execution_count": 53,
   "metadata": {},
   "outputs": [],
   "source": [
    "majority_tuning_data['gates'].append(new_entry)"
   ]
  },
  {
   "cell_type": "code",
   "execution_count": 54,
   "metadata": {},
   "outputs": [
    {
     "data": {
      "text/plain": [
       "{'gates': [{'id': 'n0', 'promoter': 1.5},\n",
       "  {'id': 'n4', 'rbs': 2},\n",
       "  {'id': 'n8', 'promoter': 0.5, 'rbs': 0.5},\n",
       "  {'id': 'n6', 'promoter': 0.5, 'rbs': 0.8}]}"
      ]
     },
     "execution_count": 54,
     "metadata": {},
     "output_type": "execute_result"
    }
   ],
   "source": [
    "majority_tuning_data"
   ]
  },
  {
   "cell_type": "code",
   "execution_count": 55,
   "metadata": {},
   "outputs": [],
   "source": [
    "circuit_mapping.tune(majority_tuning_data)"
   ]
  },
  {
   "cell_type": "code",
   "execution_count": 56,
   "metadata": {},
   "outputs": [
    {
     "data": {
      "text/plain": [
       "0.5221539025179964"
      ]
     },
     "execution_count": 56,
     "metadata": {},
     "output_type": "execute_result"
    }
   ],
   "source": [
    "circuit_mapping.score()"
   ]
  },
  {
   "cell_type": "markdown",
   "metadata": {},
   "source": [
    "#### Let's first create a all element that can be tuned for a given circuit"
   ]
  },
  {
   "cell_type": "code",
   "execution_count": 175,
   "metadata": {},
   "outputs": [],
   "source": [
    "tuning_data = []\n",
    "for dict_ in majority_mapping_data['gates']:\n",
    "    if dict_['type'] == 'NOT':\n",
    "        tuning_data.append({'id': dict_['id'], 'promoter':1.0, 'rbs': 1.0})"
   ]
  },
  {
   "cell_type": "code",
   "execution_count": 176,
   "metadata": {},
   "outputs": [
    {
     "data": {
      "text/plain": [
       "[{'id': 'n0', 'promoter': 1.0, 'rbs': 1.0},\n",
       " {'id': 'n2', 'promoter': 1.0, 'rbs': 1.0},\n",
       " {'id': 'n3', 'promoter': 1.0, 'rbs': 1.0},\n",
       " {'id': 'n4', 'promoter': 1.0, 'rbs': 1.0},\n",
       " {'id': 'n6', 'promoter': 1.0, 'rbs': 1.0},\n",
       " {'id': 'n8', 'promoter': 1.0, 'rbs': 1.0}]"
      ]
     },
     "execution_count": 176,
     "metadata": {},
     "output_type": "execute_result"
    }
   ],
   "source": [
    "tuning_data"
   ]
  },
  {
   "cell_type": "code",
   "execution_count": 62,
   "metadata": {},
   "outputs": [],
   "source": [
    "tuning_data_sol = {'gates': tuning_data}"
   ]
  },
  {
   "cell_type": "code",
   "execution_count": 63,
   "metadata": {},
   "outputs": [],
   "source": [
    "circuit_mapping.tune(tuning_data_sol)"
   ]
  },
  {
   "cell_type": "code",
   "execution_count": 64,
   "metadata": {},
   "outputs": [
    {
     "data": {
      "text/plain": [
       "0.5191361249786275"
      ]
     },
     "execution_count": 64,
     "metadata": {},
     "output_type": "execute_result"
    }
   ],
   "source": [
    "circuit_mapping.score()"
   ]
  },
  {
   "cell_type": "markdown",
   "metadata": {},
   "source": [
    "#### ok, now let's define the output we need from the neural net\n",
    "- we will then either multiply or add the output of the neural net to the tuning data where all values are 1"
   ]
  },
  {
   "cell_type": "code",
   "execution_count": 79,
   "metadata": {},
   "outputs": [],
   "source": [
    "from keras.layers import Input, Dense, BatchNormalization\n",
    "from keras.models import Sequential, Model"
   ]
  },
  {
   "cell_type": "code",
   "execution_count": 68,
   "metadata": {},
   "outputs": [],
   "source": [
    "from evostra import EvolutionStrategy"
   ]
  },
  {
   "cell_type": "code",
   "execution_count": 200,
   "metadata": {},
   "outputs": [],
   "source": [
    "# create the neural net\n",
    "class MODEL():\n",
    "    def __init__(self, out_dim):        \n",
    "\n",
    "        # dict to map the circuit element to char and int\n",
    "        # those mapping are needed for the neural net\n",
    "        self.out_dim = out_dim\n",
    "        self.model = self.build_model()\n",
    "        \n",
    "    def build_model(self):\n",
    "        \"\"\"\n",
    "        function to create the neural net\n",
    "        \"\"\"\n",
    "        model = Sequential()\n",
    "        model.add(Dense(256))\n",
    "        model.add(BatchNormalization())\n",
    "        model.add(Dense(self.out_dim))\n",
    "        \n",
    "        # we will first try to add, so no activation function\n",
    "\n",
    "        return model"
   ]
  },
  {
   "cell_type": "code",
   "execution_count": 201,
   "metadata": {},
   "outputs": [
    {
     "data": {
      "text/plain": [
       "12"
      ]
     },
     "execution_count": 201,
     "metadata": {},
     "output_type": "execute_result"
    }
   ],
   "source": [
    "out_dim = len(tuning_data)*2\n",
    "out_dim"
   ]
  },
  {
   "cell_type": "markdown",
   "metadata": {},
   "source": [
    "let's create our model, which will take as input a dummy matrix to get a list of output"
   ]
  },
  {
   "cell_type": "code",
   "execution_count": 207,
   "metadata": {},
   "outputs": [],
   "source": [
    "model = MODEL(out_dim)"
   ]
  },
  {
   "cell_type": "code",
   "execution_count": 208,
   "metadata": {},
   "outputs": [],
   "source": [
    "net = model.build_model()"
   ]
  },
  {
   "cell_type": "code",
   "execution_count": 209,
   "metadata": {},
   "outputs": [],
   "source": [
    "X = np.ones([5,5])"
   ]
  },
  {
   "cell_type": "code",
   "execution_count": 210,
   "metadata": {},
   "outputs": [],
   "source": [
    "solution = net.predict(X)[0]"
   ]
  },
  {
   "cell_type": "code",
   "execution_count": 211,
   "metadata": {},
   "outputs": [
    {
     "data": {
      "text/plain": [
       "array([ 0.03161672,  0.23497109,  0.44255808, -0.1331769 ,  0.10330744,\n",
       "        0.08331902,  0.12131631,  0.47361755, -0.16213001,  0.3228344 ,\n",
       "        0.12106256,  0.19425496], dtype=float32)"
      ]
     },
     "execution_count": 211,
     "metadata": {},
     "output_type": "execute_result"
    }
   ],
   "source": [
    "solution"
   ]
  },
  {
   "cell_type": "markdown",
   "metadata": {},
   "source": [
    "we will use those element to modify the dictionnary of values for promoters and rbs"
   ]
  },
  {
   "cell_type": "markdown",
   "metadata": {},
   "source": [
    "let's try to fill the dict with the solution from the net"
   ]
  },
  {
   "cell_type": "code",
   "execution_count": 177,
   "metadata": {},
   "outputs": [],
   "source": [
    "idx = 0\n",
    "for dict_ in tuning_data:\n",
    "    dict_['promoter'] += solution[idx]\n",
    "    dict_['rbs'] += solution[idx+1]\n",
    "    idx+=2"
   ]
  },
  {
   "cell_type": "code",
   "execution_count": 178,
   "metadata": {},
   "outputs": [
    {
     "data": {
      "text/plain": [
       "[{'id': 'n0', 'promoter': 1.0443906970322132, 'rbs': 1.039889894425869},\n",
       " {'id': 'n2', 'promoter': 1.3792296350002289, 'rbs': 1.0551776215434074},\n",
       " {'id': 'n3', 'promoter': 1.0, 'rbs': 1.097153514623642},\n",
       " {'id': 'n4', 'promoter': 1.0, 'rbs': 1.0},\n",
       " {'id': 'n6', 'promoter': 1.1414542496204376, 'rbs': 1.0},\n",
       " {'id': 'n8', 'promoter': 1.0, 'rbs': 1.5824653506278992}]"
      ]
     },
     "execution_count": 178,
     "metadata": {},
     "output_type": "execute_result"
    }
   ],
   "source": [
    "tuning_data"
   ]
  },
  {
   "cell_type": "code",
   "execution_count": 179,
   "metadata": {},
   "outputs": [],
   "source": [
    "tuning_data_solution = {'gates': tuning_data}"
   ]
  },
  {
   "cell_type": "code",
   "execution_count": 180,
   "metadata": {},
   "outputs": [],
   "source": [
    "circuit_mapping.tune(tuning_data_solution)"
   ]
  },
  {
   "cell_type": "code",
   "execution_count": 181,
   "metadata": {},
   "outputs": [
    {
     "data": {
      "text/plain": [
       "0.5114687426644776"
      ]
     },
     "execution_count": 181,
     "metadata": {},
     "output_type": "execute_result"
    }
   ],
   "source": [
    "circuit_mapping.score()"
   ]
  },
  {
   "cell_type": "markdown",
   "metadata": {},
   "source": [
    "#### let's get the function for ES"
   ]
  },
  {
   "cell_type": "code",
   "execution_count": 212,
   "metadata": {},
   "outputs": [],
   "source": [
    "def get_score(n_samples, weights):\n",
    "    \"\"\"\n",
    "    function to get the score of a given seqence\n",
    "    of elements given by the algo\n",
    "    params – n_samples: number of samples sampled\n",
    "    by the algo for this run\n",
    "    params - weights: weights of the neural net\n",
    "    \"\"\"\n",
    "    all_scores = []\n",
    "    for i in range(n_samples):\n",
    "        \n",
    "        #load the current weights and sample solution\n",
    "        net.model.set_weights(weights)\n",
    "        solution = net.predict(X)[0]\n",
    "        print('solution: ', solution)\n",
    "        \n",
    "        path_json = '../../genetic_logic_synthesis/genetic_circuit_scoring/example/majority_mapping.json'\n",
    "        score = get_score_mapping(solution, path_json)\n",
    "        \n",
    "    # return the maximum of all the samples\n",
    "    # because we aim for the max score\n",
    "    # note: we could have optimise for the mean\n",
    "    # of all our samples of a given epoch e.g.\n",
    "    return np.mean(all_scores)\n",
    "\n",
    "def get_reward(weights):\n",
    "    \"\"\"\n",
    "    function needed by evostra (ES library)\n",
    "    to optomise the weights of a neural net\n",
    "    given a number to optimise, i.e. the reward\n",
    "    params - weights: parameters of the neural nets,\n",
    "    i.e. its weights\n",
    "    \"\"\"\n",
    "    # n_samples is the number of samples \n",
    "    # sampled at each epoch\n",
    "    n_samples = 1\n",
    "    return get_score(n_samples, weights)\n",
    "\n",
    "def get_score_mapping(solution, path):\n",
    "    \"\"\"\n",
    "    function to get the score back from generated\n",
    "    outpout of the neural net.\n",
    "    params - mapping_from_net: output from the neural net\n",
    "    params - path: path to the json file\n",
    "    \"\"\"\n",
    "        \n",
    "    # we load the original file\n",
    "    # at every call to avoid\n",
    "    # messing up with cloning\n",
    "    # of nested objects\n",
    "    with open(path) as file:\n",
    "        list_data = json.load(file)\n",
    "        \n",
    "    with open('../../genetic_logic_synthesis/genetic_circuit_scoring/example/genetic_gate_library.json') as library_file:\n",
    "        library_data = json.load(library_file)\n",
    "\n",
    "    circuit_mapping = CircuitMapping(library_data)\n",
    "    circuit_mapping.map(list_data)\n",
    "    \n",
    "    # we create the tuning data with a factor of 1\n",
    "    tuning_data = []\n",
    "    for dict_ in list_data['gates']:\n",
    "        if dict_['type'] == 'NOT':\n",
    "            tuning_data.append({'id': dict_['id'], 'promoter':1.0, 'rbs': 1.0})\n",
    "    \n",
    "    # now we will this dict\n",
    "    # with the net output\n",
    "    idx = 0\n",
    "    for dict_ in tuning_data:\n",
    "        dict_['promoter'] += solution[idx]\n",
    "        dict_['rbs'] += solution[idx+1]\n",
    "        idx+=2\n",
    "        \n",
    "    tuning_data_sol = {'gates': tuning_data}  \n",
    "    print('tuning_data_sol ', tuning_data_sol)\n",
    "    circuit_mapping.tune(tuning_data_sol)\n",
    "    print('score: ', circuit_mapping.score())\n",
    "    \n",
    "    return circuit_mapping.score()"
   ]
  },
  {
   "cell_type": "markdown",
   "metadata": {},
   "source": [
    "let's finally run the algo"
   ]
  },
  {
   "cell_type": "code",
   "execution_count": 213,
   "metadata": {},
   "outputs": [
    {
     "name": "stdout",
     "output_type": "stream",
     "text": [
      "solution:  [ 0.07430971  0.24565123  0.5065814  -0.15450804  0.04086089 -0.02447774\n",
      "  0.11658062  0.6242171  -0.18410915  0.278344    0.13235936  0.30078766]\n",
      "tuning_data_sol  {'gates': [{'id': 'n0', 'promoter': 1.0743097141385078, 'rbs': 1.2456512302160263}, {'id': 'n2', 'promoter': 1.506581425666809, 'rbs': 0.845491960644722}, {'id': 'n3', 'promoter': 1.040860891342163, 'rbs': 0.9755222592502832}, {'id': 'n4', 'promoter': 1.1165806204080582, 'rbs': 1.6242170929908752}, {'id': 'n6', 'promoter': 0.8158908486366272, 'rbs': 1.2783440053462982}, {'id': 'n8', 'promoter': 1.132359355688095, 'rbs': 1.3007876574993134}]}\n",
      "score:  0.5203859533260793\n",
      "solution:  [-0.0413533   0.22107005  0.4754806  -0.14393836  0.10090262  0.1231711\n",
      "  0.17323868  0.3538392  -0.14608994  0.2983724   0.09423239  0.1960909 ]\n",
      "tuning_data_sol  {'gates': [{'id': 'n0', 'promoter': 0.9586467035114765, 'rbs': 1.2210700511932373}, {'id': 'n2', 'promoter': 1.4754805862903595, 'rbs': 0.8560616374015808}, {'id': 'n3', 'promoter': 1.1009026244282722, 'rbs': 1.1231710985302925}, {'id': 'n4', 'promoter': 1.173238679766655, 'rbs': 1.3538391888141632}, {'id': 'n6', 'promoter': 0.8539100587368011, 'rbs': 1.2983723878860474}, {'id': 'n8', 'promoter': 1.0942323878407478, 'rbs': 1.1960909068584442}]}\n",
      "score:  0.520384536343886\n",
      "solution:  [nan nan nan nan nan nan nan nan nan nan nan nan]\n",
      "tuning_data_sol  {'gates': [{'id': 'n0', 'promoter': nan, 'rbs': nan}, {'id': 'n2', 'promoter': nan, 'rbs': nan}, {'id': 'n3', 'promoter': nan, 'rbs': nan}, {'id': 'n4', 'promoter': nan, 'rbs': nan}, {'id': 'n6', 'promoter': nan, 'rbs': nan}, {'id': 'n8', 'promoter': nan, 'rbs': nan}]}\n",
      "score:  nan\n",
      "solution:  [nan nan nan nan nan nan nan nan nan nan nan nan]\n",
      "tuning_data_sol  {'gates': [{'id': 'n0', 'promoter': nan, 'rbs': nan}, {'id': 'n2', 'promoter': nan, 'rbs': nan}, {'id': 'n3', 'promoter': nan, 'rbs': nan}, {'id': 'n4', 'promoter': nan, 'rbs': nan}, {'id': 'n6', 'promoter': nan, 'rbs': nan}, {'id': 'n8', 'promoter': nan, 'rbs': nan}]}\n",
      "score:  nan\n"
     ]
    },
    {
     "name": "stderr",
     "output_type": "stream",
     "text": [
      "/Library/Frameworks/Python.framework/Versions/2.7/envs/bda/lib/python3.6/site-packages/keras/engine/sequential.py:109: UserWarning: `Sequential.model` is deprecated. `Sequential` is a subclass of `Model`, you can just use your `Sequential` instance directly.\n",
      "  warnings.warn('`Sequential.model` is deprecated. '\n",
      "/Library/Frameworks/Python.framework/Versions/2.7/envs/bda/lib/python3.6/site-packages/numpy/core/fromnumeric.py:2920: RuntimeWarning: Mean of empty slice.\n",
      "  out=out, **kwargs)\n",
      "/Library/Frameworks/Python.framework/Versions/2.7/envs/bda/lib/python3.6/site-packages/numpy/core/_methods.py:85: RuntimeWarning: invalid value encountered in double_scalars\n",
      "  ret = ret.dtype.type(ret / rcount)\n"
     ]
    }
   ],
   "source": [
    "# run the evolution strategies (ES)\n",
    "# note: if you want, you can play with the paramters.\n",
    "# those seems to give reasonable results\n",
    "es = EvolutionStrategy(net.model.get_weights(), \n",
    "                       get_reward, \n",
    "                       population_size=2, \n",
    "                       sigma=0.01,  # noise std deviation\n",
    "                       learning_rate=0.001, \n",
    "                       decay=0.995,\n",
    "                       num_threads=1)\n",
    "\n",
    "es.run(2)"
   ]
  },
  {
   "cell_type": "markdown",
   "metadata": {},
   "source": [
    "ok, the net output nan value. I guess the evolution strategies are messing a bit too much with its weights for now. With more tuning, this should probably give a working solution."
   ]
  },
  {
   "cell_type": "code",
   "execution_count": null,
   "metadata": {},
   "outputs": [],
   "source": []
  }
 ],
 "metadata": {
  "kernelspec": {
   "display_name": "Python 3",
   "language": "python",
   "name": "python3"
  },
  "language_info": {
   "codemirror_mode": {
    "name": "ipython",
    "version": 3
   },
   "file_extension": ".py",
   "mimetype": "text/x-python",
   "name": "python",
   "nbconvert_exporter": "python",
   "pygments_lexer": "ipython3",
   "version": "3.6.6"
  }
 },
 "nbformat": 4,
 "nbformat_minor": 2
}
